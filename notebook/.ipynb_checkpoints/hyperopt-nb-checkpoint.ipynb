{
 "cells": [
  {
   "cell_type": "code",
   "execution_count": 35,
   "metadata": {},
   "outputs": [
    {
     "name": "stderr",
     "output_type": "stream",
     "text": [
      "\n",
      "====Demo regression on Boston dataset====\n",
      "Trial 1 loss: 0.19759424318745022\n",
      "Trial 2 loss: 0.14366457166851354\n",
      "Trial 3 loss: 0.4707631958232238\n",
      "Trial 4 loss: 0.599141331680336\n",
      "Trial 5 loss: 8.638719700452809\n",
      "Trial 6 loss: 0.9934061336748272\n",
      "Trial 7 loss: 0.16280310633246675\n",
      "Trial 8 loss: 0.24592559042690443\n",
      "Trial 9 loss: 0.866110870321711\n",
      "Trial 10 loss: 6.6132039790501524\n",
      "Test R2: 0.822591701166\n",
      "Best model: {'learner': AdaBoostRegressor(base_estimator=None, learning_rate=0.17142473298939273,\n",
      "         loss='linear', n_estimators=57, random_state=1), 'preprocs': (MinMaxScaler(copy=True, feature_range=(0.0, 1.0)),), 'ex_preprocs': ()}\n",
      "====End of demo====\n"
     ]
    }
   ],
   "source": [
    "from __future__ import print_function\n",
    "# import numpy as np\n",
    "from sklearn import datasets\n",
    "from sklearn.cross_validation import train_test_split\n",
    "from hyperopt import tpe\n",
    "import hpsklearn\n",
    "import sys\n",
    " \n",
    "def test_demo_boston():\n",
    " \n",
    "    boston = datasets.load_boston()\n",
    "    X_train, X_test, y_train, y_test = train_test_split(\n",
    "        boston.data, boston.target, test_size=.25, random_state=1)\n",
    " \n",
    "    estimator = hpsklearn.HyperoptEstimator(\n",
    "        preprocessing=hpsklearn.components.any_preprocessing('pp'),\n",
    "        regressor=hpsklearn.components.any_regressor('reg'),\n",
    "        algo=tpe.suggest,\n",
    "        trial_timeout=15.0,  # seconds\n",
    "        max_evals=10,\n",
    "        seed=1\n",
    "    )\n",
    " \n",
    "    # /BEGIN `Demo version of estimator.fit()`\n",
    "    print('', file=sys.stderr)\n",
    "    print('====Demo regression on Boston dataset====', file=sys.stderr)\n",
    " \n",
    " \n",
    "    iterator = estimator.fit_iter(X_train, y_train)\n",
    "    next(iterator)\n",
    " \n",
    "    n_trial = 0\n",
    "    while len(estimator.trials.trials) < estimator.max_evals:\n",
    "        iterator.send(1)  # -- try one more model\n",
    "        n_trial += 1\n",
    "        print('Trial', n_trial, 'loss:', estimator.trials.losses()[-1], \n",
    "              file=sys.stderr)\n",
    "        # hpsklearn.demo_support.scatter_error_vs_time(estimator)\n",
    "        # hpsklearn.demo_support.bar_classifier_choice(estimator)\n",
    " \n",
    "    estimator.retrain_best_model_on_full_data(X_train, y_train)\n",
    " \n",
    "    # /END Demo version of `estimator.fit()`\n",
    " \n",
    "    print('Test R2:', estimator.score(X_test, y_test), file=sys.stderr)\n",
    "    print('Best model:',estimator.best_model(), file=sys.stderr)\n",
    "    print('====End of demo====', file=sys.stderr)\n",
    "test_demo_boston()"
   ]
  },
  {
   "cell_type": "code",
   "execution_count": null,
   "metadata": {
    "collapsed": true
   },
   "outputs": [],
   "source": [
    "from __future__ import print_function\n",
    "# import numpy as np\n",
    "from sklearn import datasets\n",
    "from sklearn.model_selection import train_test_split\n",
    "from hyperopt import tpe\n",
    "import hpsklearn\n",
    "import sys\n",
    "from sklearn import preprocessing\n",
    "from sklearn import utils\n",
    "\n",
    "# check the official repo for info: https://github.com/hyperopt/hyperopt-sklearn\n",
    "def test_demo_iris():\n",
    " \n",
    "    iris = datasets.load_iris()\n",
    "    lab_enc = preprocessing.LabelEncoder()\n",
    "    iris.target = lab_enc.fit_transform(iris.target.astype('int'))\n",
    "    X_train, X_test, y_train, y_test = train_test_split(\n",
    "        iris.data, iris.target, test_size=.25, random_state=1)\n",
    " \n",
    "\n",
    "    estimator = hpsklearn.HyperoptEstimator(\n",
    "        preprocessing=hpsklearn.components.any_preprocessing('pp'),\n",
    "        classifier=hpsklearn.components.any_classifier('clf'),\n",
    "        algo=tpe.suggest,\n",
    "        trial_timeout=300,  # seconds\n",
    "        max_evals=10,\n",
    "        seed=1\n",
    "    )\n",
    "\n",
    "    # /BEGIN `Demo version of estimator.fit()`\n",
    "    print('', file=sys.stderr)\n",
    "    print('====Demo classification on Iris dataset====', file=sys.stderr)\n",
    " \n",
    "    iterator = estimator.fit_iter(X_train, y_train)\n",
    "    next(iterator)\n",
    " \n",
    "    n_trial = 0\n",
    "    while len(estimator.trials.trials) < estimator.max_evals:\n",
    "        iterator.send(1)  # -- try one more model\n",
    "        n_trial += 1\n",
    "        print('Trial', n_trial, 'loss:', estimator.trials.losses()[-1], file=sys.stderr)\n",
    "        #hpsklearn.scatter_error_vs_time(estimator)\n",
    "        #hpsklearn.demo_support.bar_classifier_choice(estimator)\n",
    " \n",
    "    estimator.retrain_best_model_on_full_data(X_train, y_train)\n",
    " \n",
    "    # /END Demo version of `estimator.fit()`\n",
    " \n",
    "    print('Test accuracy:', estimator.score(X_test, y_test), file=sys.stderr)\n",
    "    print('Best model:',estimator.best_model(), file=sys.stderr)\n",
    "    print('====End of demo====', file=sys.stderr)\n",
    "\n",
    "test_demo_iris()\n",
    "# -- flake8 eof"
   ]
  },
  {
   "cell_type": "code",
   "execution_count": null,
   "metadata": {
    "collapsed": true
   },
   "outputs": [],
   "source": [
    "# LOAD FROM CSV FILE\n",
    "\n",
    "import pandas as pd\n",
    "input = \"D:/machine_learning/datasets/iris.csv\"\n",
    "\n",
    "txt = pd.read_csv(input, sep=',', iterator=True, chunksize=10000)\n",
    "data = pd.concat(txt, ignore_index=True)"
   ]
  },
  {
   "cell_type": "code",
   "execution_count": null,
   "metadata": {
    "collapsed": true
   },
   "outputs": [],
   "source": [
    "# SIMPLE SPLITTING\n",
    "\n",
    "train_perc = .7\n",
    "train_size = math.floor(data.shape[0] * train_perc)\n",
    "train, test = data[:train_size], data[train_size:]\n",
    "\n",
    "# or\n",
    "\n",
    "X_train, X_test, y_train, y_test = train_test_split(\n",
    "        X, y, test_size=.25, random_state=1)"
   ]
  },
  {
   "cell_type": "code",
   "execution_count": null,
   "metadata": {
    "collapsed": true
   },
   "outputs": [],
   "source": [
    "# K-FOLD CROSS VALIDATION\n",
    "\n",
    "kf = KFold(n_splits=10,shuffle=True)\n",
    "for train_index, test_index in kf.split(X):\n",
    "    X_train, X_test = X[train_index], X[test_index]\n",
    "        y_train, y_test = y[train_index], y[test_index]\n",
    "    clf = tree.DecisionTreeClassifier()\n",
    "    clf = clf.fit(X_train, y_train)\n",
    "    sc=clf.score(X_test,y_test)"
   ]
  },
  {
   "cell_type": "code",
   "execution_count": 3,
   "metadata": {
    "scrolled": true
   },
   "outputs": [
    {
     "name": "stderr",
     "output_type": "stream",
     "text": [
      "\n",
      "====Demo classification on Iris dataset====\n",
      "Trial 1 loss: 0.13043478260869568\n",
      "Trial 2 loss: 0.08695652173913049\n",
      "Trial 3 loss: 0.13043478260869568\n",
      "Trial 4 loss: 0.04347826086956519\n",
      "Trial 5 loss: 0.13043478260869568\n",
      "Trial 6 loss: 0.7391304347826086\n",
      "Trial 7 loss: 0.7391304347826086\n",
      "Trial 8 loss: 0.4347826086956522\n",
      "Trial 9 loss: 0.13043478260869568\n",
      "Trial 10 loss: 0.13043478260869568\n",
      "Test accuracy: 0.947368421053\n",
      "Best model: {'learner': KNeighborsClassifier(algorithm='auto', leaf_size=30, metric='euclidean',\n",
      "           metric_params=None, n_jobs=1, n_neighbors=41, p=2,\n",
      "           weights='distance'), 'preprocs': (MinMaxScaler(copy=True, feature_range=(0.0, 1.0)),), 'ex_preprocs': ()}\n",
      "====End of demo====\n"
     ]
    }
   ],
   "source": [
    "# HYPERPARAMETER & CLASSIFIER MODEL TUNING\n",
    "\n",
    "from __future__ import print_function\n",
    "from sklearn import datasets\n",
    "from sklearn.model_selection import train_test_split\n",
    "from hyperopt import tpe\n",
    "import hpsklearn\n",
    "import sys\n",
    "from sklearn import preprocessing\n",
    "from sklearn import utils\n",
    "\n",
    "# https://github.com/hyperopt/hyperopt-sklearn\n",
    "\n",
    "def split_and_tune(X, y):\n",
    "    X_train, X_test, y_train, y_test = train_test_split(\n",
    "        X, y, test_size=.25, random_state=1)\n",
    "    tune(X_train, X_test, y_train, y_test)\n",
    "    \n",
    "def tune(X_train, X_test, y_train, y_test):\n",
    "    estimator = hpsklearn.HyperoptEstimator(\n",
    "        preprocessing=hpsklearn.components.any_preprocessing('pp'),\n",
    "        classifier=hpsklearn.components.any_classifier('clf'),\n",
    "        algo=tpe.suggest,\n",
    "        trial_timeout=300,  # seconds\n",
    "        max_evals=10,\n",
    "        seed=1\n",
    "    )\n",
    "\n",
    "    print('\\n====Demo classification on Iris dataset====', file=sys.stderr)\n",
    "    iterator = estimator.fit_iter(X_train, y_train)\n",
    "    next(iterator)\n",
    "    n_trial = 0\n",
    "    while len(estimator.trials.trials) < estimator.max_evals:\n",
    "        iterator.send(1)  # -- try one more model\n",
    "        n_trial += 1\n",
    "        print('Trial', n_trial, 'loss:', estimator.trials.losses()[-1], file=sys.stderr)\n",
    "        #hpsklearn.scatter_error_vs_time(estimator)\n",
    "        #hpsklearn.demo_support.bar_classifier_choice(estimator)\n",
    "    estimator.retrain_best_model_on_full_data(X_train, y_train)\n",
    "    print('Test accuracy:', estimator.score(X_test, y_test), file=sys.stderr)\n",
    "    print('Best model:',estimator.best_model(), file=sys.stderr)\n",
    "    print('====End of demo====', file=sys.stderr)\n",
    "\n",
    "D = datasets.load_iris()\n",
    "split_and_tune(D.data, D.target)"
   ]
  },
  {
   "cell_type": "code",
   "execution_count": null,
   "metadata": {
    "collapsed": true
   },
   "outputs": [],
   "source": []
  }
 ],
 "metadata": {
  "kernelspec": {
   "display_name": "Python 3",
   "language": "python",
   "name": "python3"
  },
  "language_info": {
   "codemirror_mode": {
    "name": "ipython",
    "version": 3
   },
   "file_extension": ".py",
   "mimetype": "text/x-python",
   "name": "python",
   "nbconvert_exporter": "python",
   "pygments_lexer": "ipython3",
   "version": "3.6.4"
  },
  "varInspector": {
   "cols": {
    "lenName": 16,
    "lenType": 16,
    "lenVar": 40
   },
   "kernels_config": {
    "python": {
     "delete_cmd_postfix": "",
     "delete_cmd_prefix": "del ",
     "library": "var_list.py",
     "varRefreshCmd": "print(var_dic_list())"
    },
    "r": {
     "delete_cmd_postfix": ") ",
     "delete_cmd_prefix": "rm(",
     "library": "var_list.r",
     "varRefreshCmd": "cat(var_dic_list()) "
    }
   },
   "position": {
    "height": "364px",
    "left": "821px",
    "right": "20px",
    "top": "120px",
    "width": "456px"
   },
   "types_to_exclude": [
    "module",
    "function",
    "builtin_function_or_method",
    "instance",
    "_Feature"
   ],
   "window_display": false
  }
 },
 "nbformat": 4,
 "nbformat_minor": 2
}
